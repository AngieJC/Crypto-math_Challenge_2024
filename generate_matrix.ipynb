{
 "cells": [
  {
   "cell_type": "code",
   "execution_count": 1,
   "id": "ce37b77e",
   "metadata": {},
   "outputs": [],
   "source": [
    "import numpy as np\n",
    "import math\n",
    "import matplotlib.pyplot as plt\n",
    "from scipy.interpolate import interp1d\n",
    "\n",
    "def prob_dist(x, sigma, c = 0):\n",
    "    return (1 / (sigma * math.sqrt(2 * math.pi))) * (math.e**((-(x - c)**2) / (2 * sigma**2)))\n",
    "\n",
    "def generate_matrix(sigma, c = 0, tau = 6, n = 64):\n",
    "    rows = math.ceil(tau * sigma) + 1\n",
    "    cols = n\n",
    "    probs = [prob_dist(0, sigma, c)]\n",
    "    for v in range(1, rows):\n",
    "        probs.append(2 * prob_dist(v, sigma, c))\n",
    "    m = np.zeros((rows, cols))\n",
    "    for row in range(rows):\n",
    "        x = 0.5\n",
    "        for col in range(cols):\n",
    "            if probs[row] >= x:\n",
    "                probs[row] -= x\n",
    "                m[row][col] = 1\n",
    "            x *= 0.5\n",
    "    \n",
    "    return m.astype(int).tolist()\n",
    "\n",
    "def normalize(x):\n",
    "    prob_sum = sum(list(x.values()))\n",
    "    keys = list(x.keys())\n",
    "    for key in keys:\n",
    "        x[key] /= prob_sum\n",
    "    return x\n",
    "\n",
    "def infos(base_sampler):\n",
    "    m = np.zeros((len(base_sampler), 64))\n",
    "    for row in range(len(base_sampler)):\n",
    "        x = 0.5\n",
    "        for col in range(64):\n",
    "            if base_sampler[row] >= x:\n",
    "                base_sampler[row] -= x\n",
    "                m[row][col] = 1\n",
    "            x *= 0.5\n",
    "    m = m.astype(int).tolist()\n",
    "    sample_val = []\n",
    "    for i in range(len(m)):\n",
    "        print(m[i][:8])\n",
    "        val = 0\n",
    "        for j in range(8):\n",
    "            val *= 2\n",
    "            val += m[i][j]\n",
    "        sample_val.extend([i] * val)\n",
    "        m[i] = m[i][8:]\n",
    "    print(sample_val)\n",
    "    col_sums = []\n",
    "    m_index = []\n",
    "    for col in range(len(m[0])):\n",
    "        col_sum = 0\n",
    "        col_index = []\n",
    "        for row in range(len(m)):\n",
    "            col_sum += m[row][col]\n",
    "            if m[row][col] == 1:\n",
    "                col_index.append(row)\n",
    "        while len(col_index) < len(m):\n",
    "            col_index.append(0)\n",
    "        col_sums.append(col_sum)\n",
    "        m_index.append(col_index)\n",
    "    print(col_sums)\n",
    "    print(m_index)"
   ]
  },
  {
   "cell_type": "markdown",
   "id": "7e083bc6",
   "metadata": {},
   "source": [
    "第一题矩阵"
   ]
  },
  {
   "cell_type": "code",
   "execution_count": 2,
   "id": "e5ecd3e3",
   "metadata": {},
   "outputs": [
    {
     "name": "stdout",
     "output_type": "stream",
     "text": [
      "[[1, 0, 0, 0, 1, 0, 0, 0, 0, 0, 1, 0, 1, 1, 0, 0, 0, 0, 0, 1, 1, 0, 1, 1, 1, 0, 1, 1, 1, 1, 1, 1, 0, 0, 0, 1, 0, 1, 1, 0, 0, 1, 1, 1, 0, 1, 1, 1, 0, 0, 0, 0, 1, 0, 0, 0, 0, 0, 0, 0, 0, 0, 0, 0], [0, 1, 1, 0, 1, 1, 1, 1, 1, 1, 1, 1, 0, 1, 1, 0, 1, 1, 0, 1, 0, 1, 1, 0, 1, 0, 0, 0, 0, 1, 1, 1, 1, 1, 0, 1, 1, 1, 0, 0, 0, 1, 1, 1, 0, 0, 0, 0, 1, 0, 1, 1, 0, 1, 0, 0, 0, 0, 0, 0, 0, 0, 0, 0], [0, 0, 0, 0, 0, 1, 1, 1, 1, 1, 0, 0, 0, 1, 1, 1, 1, 0, 0, 1, 0, 1, 1, 1, 1, 1, 0, 0, 1, 0, 0, 0, 1, 0, 1, 1, 1, 1, 0, 1, 1, 0, 1, 1, 0, 0, 1, 1, 1, 0, 0, 1, 0, 1, 1, 1, 1, 1, 0, 0, 0, 0, 0, 0], [0, 0, 0, 0, 0, 0, 0, 0, 0, 0, 0, 1, 0, 1, 1, 1, 0, 1, 1, 0, 0, 0, 1, 1, 0, 1, 1, 1, 0, 1, 1, 0, 1, 0, 0, 0, 0, 0, 1, 1, 1, 0, 1, 0, 1, 0, 1, 1, 1, 0, 0, 1, 1, 0, 1, 1, 1, 0, 0, 1, 1, 1, 1, 0], [0, 0, 0, 0, 0, 0, 0, 0, 0, 0, 0, 0, 0, 0, 0, 0, 0, 0, 0, 0, 1, 0, 1, 1, 1, 1, 1, 0, 0, 0, 1, 0, 0, 1, 0, 1, 0, 0, 1, 1, 1, 1, 1, 1, 0, 1, 0, 0, 1, 1, 0, 0, 0, 0, 0, 1, 1, 0, 1, 1, 1, 0, 0, 0], [0, 0, 0, 0, 0, 0, 0, 0, 0, 0, 0, 0, 0, 0, 0, 0, 0, 0, 0, 0, 0, 0, 0, 0, 0, 0, 0, 0, 0, 0, 0, 1, 0, 0, 0, 0, 0, 1, 0, 1, 0, 1, 0, 0, 0, 1, 0, 1, 0, 0, 1, 1, 0, 1, 1, 0, 0, 0, 0, 1, 0, 1, 0, 1]]\n"
     ]
    }
   ],
   "source": [
    "m = generate_matrix(0.75, 0, 6, 64)\n",
    "print(m)"
   ]
  },
  {
   "cell_type": "markdown",
   "id": "8375f6c5",
   "metadata": {},
   "source": [
    "第二题矩阵"
   ]
  },
  {
   "cell_type": "code",
   "execution_count": 3,
   "id": "729cd7bb",
   "metadata": {},
   "outputs": [],
   "source": [
    "m = generate_matrix(1024, 6, 64)\n",
    "m_ = np.zeros((64, 6145))\n",
    "for col in range(64):\n",
    "    pos = 0\n",
    "    for row in range(6145):\n",
    "        if m[row][col] == 1:\n",
    "            m_[col][pos] = row\n",
    "            pos += 1"
   ]
  },
  {
   "cell_type": "code",
   "execution_count": 11,
   "id": "cf1796cd",
   "metadata": {},
   "outputs": [
    {
     "name": "stdout",
     "output_type": "stream",
     "text": [
      "0, 0, 0, 0, 0, 0, 0, 0, 0, 0, 990, 930, 1034, 1137, 1455, 1486, 1639, 1733, 1835, 1921, 2032, 2114, 2194, 2304, 2405, 2433, 2529, 2594, 2701, 2695, 2768, 2799, 2957, 2923, 3053, 3061, 3069, 3129, 3094, 3112, 3082, 3065, 3123, 3001, 3160, 3131, 3089, 3078, 3130, 3134, 3017, 3031, 3101, 3089, 3116, 3155, 3035, 3064, 3058, 3094, 3143, 3089, 3072, 3126, "
     ]
    }
   ],
   "source": [
    "for row in range(64):\n",
    "    not_zero_mask = (m_[row] > 0)\n",
    "    not_zero_count = np.sum(not_zero_mask)\n",
    "    print(not_zero_count, end=\", \")"
   ]
  },
  {
   "cell_type": "code",
   "execution_count": null,
   "id": "8a4cd704",
   "metadata": {},
   "outputs": [],
   "source": [
    "m = m_.astype(int).tolist()\n",
    "for row in range(64):\n",
    "    m[row] = m[row][:3200]\n",
    "print(m)"
   ]
  },
  {
   "cell_type": "markdown",
   "id": "db96a7b9",
   "metadata": {},
   "source": [
    "# 第三题"
   ]
  },
  {
   "cell_type": "markdown",
   "id": "9665fadf",
   "metadata": {},
   "source": [
    "## 使用的离散半高斯分布"
   ]
  },
  {
   "cell_type": "code",
   "execution_count": 28,
   "id": "f17e05c8",
   "metadata": {},
   "outputs": [
    {
     "name": "stdout",
     "output_type": "stream",
     "text": [
      "{0: 0.420173150660369, 1: 0.336448357435157, 2: 0.172738346377606, 3: 0.0568642523530410, 4: 0.0120024564648358, 5: 0.00162435584520366, 6: 0.000140952389294606, 7: 7.84230879283109e-6, 8: 2.79766471702556e-7, 9: 6.39922857382952e-9}\n"
     ]
    }
   ],
   "source": [
    "sigma = 1.5\n",
    "left = -9\n",
    "right = 11\n",
    "base_sampler = {}\n",
    "for i in range(1 - left):\n",
    "    base_sampler[i] = prob_dist(i, sigma)\n",
    "base_sampler = normalize(base_sampler)\n",
    "print(base_sampler)"
   ]
  },
  {
   "cell_type": "markdown",
   "id": "898f1b3b",
   "metadata": {},
   "source": [
    "## 使用离散半高斯分布构建的双峰高斯分布"
   ]
  },
  {
   "cell_type": "code",
   "execution_count": 29,
   "id": "1a1032c9",
   "metadata": {},
   "outputs": [
    {
     "name": "stdout",
     "output_type": "stream",
     "text": [
      "{-9: 3.19961428691476e-9, -8: 1.39883235851278e-7, -7: 3.92115439641555e-6, -6: 0.0000704761946473028, -5: 0.000812177922601832, -4: 0.00600122823241789, -3: 0.0284321261765205, -2: 0.0863691731888030, -1: 0.168224178717578, 0: 0.210086575330185, 1: 0.210086575330185, 2: 0.168224178717578, 3: 0.0863691731888030, 4: 0.0284321261765205, 5: 0.00600122823241789, 6: 0.000812177922601832, 7: 0.0000704761946473028, 8: 3.92115439641555e-6, 9: 1.39883235851278e-7, 10: 3.19961428691476e-9}\n"
     ]
    }
   ],
   "source": [
    "bg_prob = {}\n",
    "for i in range(left, right):\n",
    "    if(i <= 0):\n",
    "        bg_prob[i] = 0.5 * base_sampler[-i]\n",
    "    else:\n",
    "        bg_prob[i] = 0.5 * base_sampler[i - 1]\n",
    "bg_prob = normalize(bg_prob)\n",
    "print(bg_prob)"
   ]
  },
  {
   "cell_type": "markdown",
   "id": "c8af9334",
   "metadata": {},
   "source": [
    "## 第三题目标分布"
   ]
  },
  {
   "cell_type": "code",
   "execution_count": 30,
   "id": "3c44a693",
   "metadata": {},
   "outputs": [
    {
     "name": "stdout",
     "output_type": "stream",
     "text": [
      "{-9: 5.18563204544342e-10, -8: 2.83125916433800e-8, -7: 9.91146343168362e-7, -6: 0.0000222472415973653, -5: 0.000320180434417809, -4: 0.00295456560799493, -3: 0.0174812593960209, -2: 0.0663180925293130, -1: 0.161313816348075, 0: 0.251588818465083, 1: 0.251588818465083, 2: 0.161313816348075, 3: 0.0663180925293130, 4: 0.0174812593960209, 5: 0.00295456560799493, 6: 0.000320180434417809, 7: 0.0000222472415973653, 8: 9.91146343168362e-7, 9: 2.83125916433800e-8, 10: 5.18563204544342e-10}\n"
     ]
    }
   ],
   "source": [
    "target_prob = {}\n",
    "for i in range(left, right):\n",
    "    target_prob[i] = prob_dist(i, 1.5, c = 0.5)\n",
    "target_prob = normalize(target_prob)\n",
    "print(target_prob)"
   ]
  },
  {
   "cell_type": "markdown",
   "id": "12e3283b",
   "metadata": {},
   "source": [
    "## 目标分布和离散双峰分布的图"
   ]
  },
  {
   "cell_type": "code",
   "execution_count": 31,
   "id": "7ffd58d1",
   "metadata": {},
   "outputs": [
    {
     "data": {
      "image/png": "[encoded data removed]",
      "text/plain": [
       "<Figure size 640x480 with 1 Axes>"
      ]
     },
     "metadata": {},
     "output_type": "display_data"
    }
   ],
   "source": [
    "x_bg = list(bg_prob.keys())\n",
    "y_bg = list(bg_prob.values())\n",
    "x_target = list(target_prob.keys())\n",
    "y_target = list(target_prob.values())\n",
    "f_bg = interp1d(x_bg, y_bg, kind='cubic')\n",
    "f_target = interp1d(x_target, y_target, kind='cubic')\n",
    "x_bg_new = np.linspace(min(x_bg), max(x_bg), 300)\n",
    "y_bg_new = f_bg(x_bg_new)\n",
    "x_target_new = np.linspace(min(x_target), max(x_target), 300)\n",
    "y_target_new = f_target(x_target_new)\n",
    "plt.plot(x_bg, y_bg, color='blue', label='bg')\n",
    "plt.plot(x_target, y_target, color='red', label='target')\n",
    "plt.xticks(range(min(min(x_bg), min(x_target)), max(max(x_bg), max(x_target)) + 1, 1))\n",
    "plt.legend()\n",
    "plt.show()"
   ]
  },
  {
   "cell_type": "markdown",
   "id": "acc63bcc",
   "metadata": {},
   "source": [
    "## 离散半高斯分布各点的概率展开及其他编程信息"
   ]
  },
  {
   "cell_type": "code",
   "execution_count": 32,
   "id": "b77f4698",
   "metadata": {},
   "outputs": [
    {
     "name": "stdout",
     "output_type": "stream",
     "text": [
      "[0, 1, 1, 0, 1, 0, 1, 1]\n",
      "[0, 1, 0, 1, 0, 1, 1, 0]\n",
      "[0, 0, 1, 0, 1, 1, 0, 0]\n",
      "[0, 0, 0, 0, 1, 1, 1, 0]\n",
      "[0, 0, 0, 0, 0, 0, 1, 1]\n",
      "[0, 0, 0, 0, 0, 0, 0, 0]\n",
      "[0, 0, 0, 0, 0, 0, 0, 0]\n",
      "[0, 0, 0, 0, 0, 0, 0, 0]\n",
      "[0, 0, 0, 0, 0, 0, 0, 0]\n",
      "[0, 0, 0, 0, 0, 0, 0, 0]\n",
      "[0, 0, 0, 0, 0, 0, 0, 0, 0, 0, 0, 0, 0, 0, 0, 0, 0, 0, 0, 0, 0, 0, 0, 0, 0, 0, 0, 0, 0, 0, 0, 0, 0, 0, 0, 0, 0, 0, 0, 0, 0, 0, 0, 0, 0, 0, 0, 0, 0, 0, 0, 0, 0, 0, 0, 0, 0, 0, 0, 0, 0, 0, 0, 0, 0, 0, 0, 0, 0, 0, 0, 0, 0, 0, 0, 0, 0, 0, 0, 0, 0, 0, 0, 0, 0, 0, 0, 0, 0, 0, 0, 0, 0, 0, 0, 0, 0, 0, 0, 0, 0, 0, 0, 0, 0, 0, 0, 1, 1, 1, 1, 1, 1, 1, 1, 1, 1, 1, 1, 1, 1, 1, 1, 1, 1, 1, 1, 1, 1, 1, 1, 1, 1, 1, 1, 1, 1, 1, 1, 1, 1, 1, 1, 1, 1, 1, 1, 1, 1, 1, 1, 1, 1, 1, 1, 1, 1, 1, 1, 1, 1, 1, 1, 1, 1, 1, 1, 1, 1, 1, 1, 1, 1, 1, 1, 1, 1, 1, 1, 1, 1, 1, 1, 1, 1, 1, 1, 1, 1, 1, 1, 1, 1, 2, 2, 2, 2, 2, 2, 2, 2, 2, 2, 2, 2, 2, 2, 2, 2, 2, 2, 2, 2, 2, 2, 2, 2, 2, 2, 2, 2, 2, 2, 2, 2, 2, 2, 2, 2, 2, 2, 2, 2, 2, 2, 2, 2, 3, 3, 3, 3, 3, 3, 3, 3, 3, 3, 3, 3, 3, 3, 4, 4, 4]\n",
      "[2, 1, 3, 3, 4, 1, 3, 2, 4, 3, 5, 6, 2, 7, 5, 4, 8, 4, 3, 5, 6, 3, 4, 6, 5, 6, 9, 8, 6, 7, 6, 2, 5, 7, 7, 9, 4, 7, 6, 4, 4, 4, 3, 7, 2, 5, 3, 3, 5, 3, 4, 3, 3, 2, 2, 2]\n",
      "[[0, 3, 0, 0, 0, 0, 0, 0, 0, 0], [5, 0, 0, 0, 0, 0, 0, 0, 0, 0], [1, 2, 5, 0, 0, 0, 0, 0, 0, 0], [0, 2, 4, 0, 0, 0, 0, 0, 0, 0], [2, 3, 5, 6, 0, 0, 0, 0, 0, 0], [3, 0, 0, 0, 0, 0, 0, 0, 0, 0], [3, 4, 5, 0, 0, 0, 0, 0, 0, 0], [1, 6, 0, 0, 0, 0, 0, 0, 0, 0], [2, 3, 4, 7, 0, 0, 0, 0, 0, 0], [0, 1, 5, 0, 0, 0, 0, 0, 0, 0], [0, 1, 3, 5, 6, 0, 0, 0, 0, 0], [0, 1, 2, 4, 5, 6, 0, 0, 0, 0], [1, 6, 0, 0, 0, 0, 0, 0, 0, 0], [0, 2, 3, 4, 5, 6, 8, 0, 0, 0], [0, 1, 3, 4, 7, 0, 0, 0, 0, 0], [0, 3, 4, 7, 0, 0, 0, 0, 0, 0], [0, 1, 2, 3, 4, 6, 7, 8, 0, 0], [1, 3, 4, 6, 0, 0, 0, 0, 0, 0], [0, 5, 8, 0, 0, 0, 0, 0, 0, 0], [0, 3, 7, 8, 9, 0, 0, 0, 0, 0], [2, 3, 4, 5, 6, 9, 0, 0, 0, 0], [0, 2, 4, 0, 0, 0, 0, 0, 0, 0], [1, 5, 7, 9, 0, 0, 0, 0, 0, 0], [1, 4, 5, 6, 8, 9, 0, 0, 0, 0], [0, 1, 4, 6, 8, 0, 0, 0, 0, 0], [1, 2, 4, 6, 7, 9, 0, 0, 0, 0], [0, 1, 2, 3, 4, 5, 6, 7, 9, 0], [0, 1, 2, 4, 5, 7, 8, 9, 0, 0], [0, 1, 3, 4, 5, 9, 0, 0, 0, 0], [0, 2, 4, 6, 7, 8, 9, 0, 0, 0], [0, 1, 3, 5, 6, 8, 0, 0, 0, 0], [5, 7, 0, 0, 0, 0, 0, 0, 0, 0], [2, 3, 4, 6, 7, 0, 0, 0, 0, 0], [0, 2, 3, 4, 5, 6, 8, 0, 0, 0], [2, 3, 4, 5, 6, 7, 8, 0, 0, 0], [0, 1, 2, 3, 4, 5, 6, 7, 8, 0], [0, 2, 6, 8, 0, 0, 0, 0, 0, 0], [1, 3, 4, 6, 7, 8, 9, 0, 0, 0], [0, 1, 4, 5, 6, 9, 0, 0, 0, 0], [1, 2, 3, 8, 0, 0, 0, 0, 0, 0], [2, 5, 7, 9, 0, 0, 0, 0, 0, 0], [0, 2, 4, 7, 0, 0, 0, 0, 0, 0], [0, 1, 9, 0, 0, 0, 0, 0, 0, 0], [1, 2, 3, 4, 7, 8, 9, 0, 0, 0], [2, 8, 0, 0, 0, 0, 0, 0, 0, 0], [1, 2, 3, 5, 9, 0, 0, 0, 0, 0], [6, 8, 9, 0, 0, 0, 0, 0, 0, 0], [3, 7, 8, 0, 0, 0, 0, 0, 0, 0], [4, 5, 6, 7, 9, 0, 0, 0, 0, 0], [5, 7, 8, 0, 0, 0, 0, 0, 0, 0], [5, 6, 7, 9, 0, 0, 0, 0, 0, 0], [5, 8, 9, 0, 0, 0, 0, 0, 0, 0], [6, 8, 9, 0, 0, 0, 0, 0, 0, 0], [7, 8, 0, 0, 0, 0, 0, 0, 0, 0], [6, 9, 0, 0, 0, 0, 0, 0, 0, 0], [7, 8, 0, 0, 0, 0, 0, 0, 0, 0]]\n"
     ]
    }
   ],
   "source": [
    "infos(base_sampler)"
   ]
  },
  {
   "cell_type": "markdown",
   "id": "ef0ca753",
   "metadata": {},
   "source": [
    "# 第四题"
   ]
  },
  {
   "cell_type": "markdown",
   "id": "7e12398a",
   "metadata": {},
   "source": [
    "## 使用的离散半高斯分布"
   ]
  },
  {
   "cell_type": "code",
   "execution_count": 2,
   "id": "9b9a2f37",
   "metadata": {},
   "outputs": [
    {
     "name": "stdout",
     "output_type": "stream",
     "text": [
      "{0: 0.5703484474872089, 1: 0.3459338201204931, 2: 0.07718826868424375, 3: 0.00633599892872728, 4: 0.00019133058901417698, 5: 2.1254908510183537e-06, 6: 8.686395302658493e-09, 7: 1.305946714371307e-11, 8: 7.222987159646873e-15, 9: 1.469649416758175e-18}\n"
     ]
    }
   ],
   "source": [
    "sigma_max = 1\n",
    "sigma_min = 0.8\n",
    "left = -9\n",
    "right = 11\n",
    "base_sampler = {}\n",
    "for i in range(1 - left):\n",
    "    base_sampler[i] = prob_dist(i, sigma_max)\n",
    "base_sampler = normalize(base_sampler)\n",
    "print(base_sampler)"
   ]
  },
  {
   "cell_type": "markdown",
   "id": "66b98956",
   "metadata": {},
   "source": [
    "## 使用离散半高斯分布构建的双峰高斯分布"
   ]
  },
  {
   "cell_type": "code",
   "execution_count": 3,
   "id": "4140fac7",
   "metadata": {},
   "outputs": [
    {
     "name": "stdout",
     "output_type": "stream",
     "text": [
      "{-9: 7.34824708379087e-19, -8: 3.61149357982343e-15, -7: 6.52973357185653e-12, -6: 4.34319765132925e-9, -5: 1.06274542550918e-6, -4: 0.0000956652945070884, -3: 0.00316799946436364, -2: 0.0385941343421219, -1: 0.172966910060246, 0: 0.285174223743604, 1: 0.285174223743604, 2: 0.172966910060246, 3: 0.0385941343421219, 4: 0.00316799946436364, 5: 0.0000956652945070884, 6: 1.06274542550918e-6, 7: 4.34319765132925e-9, 8: 6.52973357185653e-12, 9: 3.61149357982343e-15, 10: 7.34824708379087e-19}\n"
     ]
    }
   ],
   "source": [
    "bg_prob = {}\n",
    "for i in range(left, right):\n",
    "    if(i <= 0):\n",
    "        bg_prob[i] = 0.5 * base_sampler[-i]\n",
    "    else:\n",
    "        bg_prob[i] = 0.5 * base_sampler[i - 1]\n",
    "bg_prob = normalize(bg_prob)\n",
    "print(bg_prob)"
   ]
  },
  {
   "cell_type": "markdown",
   "id": "862d314c",
   "metadata": {},
   "source": [
    "## 第四题目标分布及分布图"
   ]
  },
  {
   "cell_type": "code",
   "execution_count": 4,
   "id": "4903cbab",
   "metadata": {},
   "outputs": [
    {
     "name": "stdout",
     "output_type": "stream",
     "text": [
      "{-9: 2.83253760958713e-25, -8: 1.89526493822162e-20, -7: 3.68976022309583e-16, -6: 2.09006760515167e-12, -5: 3.44474038209742e-9, -4: 1.65191094792606e-6, -3: 0.000230489284427085, -2: 0.00935726266775897, -1: 0.110530179372449, 0: 0.379880413317586, 1: 0.379880413317586, 2: 0.110530179372449, 3: 0.00935726266775897, 4: 0.000230489284427085, 5: 1.65191094792606e-6, 6: 3.44474038209742e-9, 7: 2.09006760515167e-12, 8: 3.68976022309583e-16, 9: 1.89526493822162e-20, 10: 2.83253760958713e-25}\n",
      "{-9: 2.20435747547332e-7, -8: 3.00104958818613e-6, -7: 0.0000323141527561046, -6: 0.000275195184776486, -5: 0.00185360564054468, -4: 0.00987466358954872, -3: 0.0416059775588878, -2: 0.138649276235848, -1: 0.365433147117500, 0: 0.761775014609137, 1: 0.761775014609137, 2: 0.365433147117500, 3: 0.138649276235848, 4: 0.0416059775588878, 5: 0.00987466358954872, 6: 0.00185360564054468, 7: 0.000275195184776486, 8: 0.0000323141527561046, 9: 3.00104958818613e-6, 10: 2.20435747547332e-7}\n"
     ]
    },
    {
     "data": {
      "image/png": "[encoded data removed]",
      "text/plain": [
       "<Figure size 640x480 with 1 Axes>"
      ]
     },
     "metadata": {},
     "output_type": "display_data"
    }
   ],
   "source": [
    "target_sigma = 0.9\n",
    "target_center = 0.5\n",
    "target_prob = {}\n",
    "for i in range(left, right):\n",
    "    target_prob[i] = prob_dist(i, target_sigma, c = target_center)\n",
    "target_prob = normalize(target_prob)\n",
    "print(target_prob)\n",
    "accept_rate = {}\n",
    "for key in list(target_prob.keys()):\n",
    "    p = -(key - target_center)**2 / (2 * target_sigma**2)\n",
    "    if key <= 0:\n",
    "        p += key**2 / (2 * sigma_max**2)\n",
    "    else:\n",
    "        p += (key - 1)**2 / (2 * sigma_max**2)\n",
    "    p = (sigma_min / target_sigma) * e**p\n",
    "    accept_rate[key] = p\n",
    "print(accept_rate)\n",
    "\n",
    "x_bg = list(bg_prob.keys())\n",
    "y_bg = list(bg_prob.values())\n",
    "x_target = list(target_prob.keys())\n",
    "y_target = list(target_prob.values())\n",
    "f_bg = interp1d(x_bg, y_bg, kind='cubic')\n",
    "f_target = interp1d(x_target, y_target, kind='cubic')\n",
    "x_bg_new = np.linspace(min(x_bg), max(x_bg), 300)\n",
    "y_bg_new = f_bg(x_bg_new)\n",
    "x_target_new = np.linspace(min(x_target), max(x_target), 300)\n",
    "y_target_new = f_target(x_target_new)\n",
    "plt.plot(x_bg, y_bg, color='blue', label='bg')\n",
    "plt.plot(x_target, y_target, color='red', label='target')\n",
    "plt.xticks(range(min(min(x_bg), min(x_target)), max(max(x_bg), max(x_target)) + 1, 1))\n",
    "plt.legend()\n",
    "plt.show()"
   ]
  },
  {
   "cell_type": "markdown",
   "id": "fd9bea3b",
   "metadata": {},
   "source": [
    "## 离散半高斯分布各点的概率展开及其他编程信息"
   ]
  },
  {
   "cell_type": "code",
   "execution_count": 5,
   "id": "d19e55dc",
   "metadata": {},
   "outputs": [
    {
     "name": "stdout",
     "output_type": "stream",
     "text": [
      "[1, 0, 0, 1, 0, 0, 1, 0]\n",
      "[0, 1, 0, 1, 1, 0, 0, 0]\n",
      "[0, 0, 0, 1, 0, 0, 1, 1]\n",
      "[0, 0, 0, 0, 0, 0, 0, 1]\n",
      "[0, 0, 0, 0, 0, 0, 0, 0]\n",
      "[0, 0, 0, 0, 0, 0, 0, 0]\n",
      "[0, 0, 0, 0, 0, 0, 0, 0]\n",
      "[0, 0, 0, 0, 0, 0, 0, 0]\n",
      "[0, 0, 0, 0, 0, 0, 0, 0]\n",
      "[0, 0, 0, 0, 0, 0, 0, 0]\n",
      "[0, 0, 0, 0, 0, 0, 0, 0, 0, 0, 0, 0, 0, 0, 0, 0, 0, 0, 0, 0, 0, 0, 0, 0, 0, 0, 0, 0, 0, 0, 0, 0, 0, 0, 0, 0, 0, 0, 0, 0, 0, 0, 0, 0, 0, 0, 0, 0, 0, 0, 0, 0, 0, 0, 0, 0, 0, 0, 0, 0, 0, 0, 0, 0, 0, 0, 0, 0, 0, 0, 0, 0, 0, 0, 0, 0, 0, 0, 0, 0, 0, 0, 0, 0, 0, 0, 0, 0, 0, 0, 0, 0, 0, 0, 0, 0, 0, 0, 0, 0, 0, 0, 0, 0, 0, 0, 0, 0, 0, 0, 0, 0, 0, 0, 0, 0, 0, 0, 0, 0, 0, 0, 0, 0, 0, 0, 0, 0, 0, 0, 0, 0, 0, 0, 0, 0, 0, 0, 0, 0, 0, 0, 0, 0, 0, 0, 1, 1, 1, 1, 1, 1, 1, 1, 1, 1, 1, 1, 1, 1, 1, 1, 1, 1, 1, 1, 1, 1, 1, 1, 1, 1, 1, 1, 1, 1, 1, 1, 1, 1, 1, 1, 1, 1, 1, 1, 1, 1, 1, 1, 1, 1, 1, 1, 1, 1, 1, 1, 1, 1, 1, 1, 1, 1, 1, 1, 1, 1, 1, 1, 1, 1, 1, 1, 1, 1, 1, 1, 1, 1, 1, 1, 1, 1, 1, 1, 1, 1, 1, 1, 1, 1, 1, 1, 2, 2, 2, 2, 2, 2, 2, 2, 2, 2, 2, 2, 2, 2, 2, 2, 2, 2, 2, 3]\n",
      "[3, 1, 0, 1, 3, 3, 4, 2, 2, 1, 2, 4, 5, 3, 3, 3, 2, 4, 5, 2, 5, 3, 2, 4, 4, 4, 4, 2, 7, 5, 6, 4, 3, 5, 5, 5, 5, 5, 6, 3, 5, 7, 3, 3, 6, 2, 3, 2, 2, 3, 3, 4, 4, 1, 4, 3]\n",
      "[[1, 2, 3, 0, 0, 0, 0, 0, 0, 0], [2, 0, 0, 0, 0, 0, 0, 0, 0, 0], [0, 0, 0, 0, 0, 0, 0, 0, 0, 0], [3, 0, 0, 0, 0, 0, 0, 0, 0, 0], [1, 3, 4, 0, 0, 0, 0, 0, 0, 0], [1, 3, 4, 0, 0, 0, 0, 0, 0, 0], [0, 1, 2, 3, 0, 0, 0, 0, 0, 0], [1, 3, 0, 0, 0, 0, 0, 0, 0, 0], [2, 4, 0, 0, 0, 0, 0, 0, 0, 0], [0, 0, 0, 0, 0, 0, 0, 0, 0, 0], [3, 5, 0, 0, 0, 0, 0, 0, 0, 0], [0, 1, 2, 3, 0, 0, 0, 0, 0, 0], [0, 1, 2, 3, 4, 0, 0, 0, 0, 0], [1, 2, 3, 0, 0, 0, 0, 0, 0, 0], [0, 1, 5, 0, 0, 0, 0, 0, 0, 0], [0, 4, 5, 0, 0, 0, 0, 0, 0, 0], [4, 5, 0, 0, 0, 0, 0, 0, 0, 0], [1, 2, 3, 4, 0, 0, 0, 0, 0, 0], [1, 3, 4, 5, 6, 0, 0, 0, 0, 0], [0, 4, 0, 0, 0, 0, 0, 0, 0, 0], [0, 1, 3, 4, 5, 0, 0, 0, 0, 0], [3, 4, 6, 0, 0, 0, 0, 0, 0, 0], [1, 4, 0, 0, 0, 0, 0, 0, 0, 0], [0, 1, 2, 6, 0, 0, 0, 0, 0, 0], [1, 2, 4, 5, 0, 0, 0, 0, 0, 0], [0, 1, 5, 6, 0, 0, 0, 0, 0, 0], [1, 2, 3, 5, 0, 0, 0, 0, 0, 0], [1, 4, 0, 0, 0, 0, 0, 0, 0, 0], [0, 1, 3, 4, 5, 6, 7, 0, 0, 0], [1, 3, 4, 6, 7, 0, 0, 0, 0, 0], [1, 2, 3, 4, 6, 7, 0, 0, 0, 0], [1, 3, 4, 5, 0, 0, 0, 0, 0, 0], [3, 5, 6, 0, 0, 0, 0, 0, 0, 0], [1, 4, 5, 6, 7, 0, 0, 0, 0, 0], [0, 1, 2, 3, 5, 0, 0, 0, 0, 0], [1, 2, 3, 4, 7, 0, 0, 0, 0, 0], [0, 2, 4, 6, 7, 0, 0, 0, 0, 0], [0, 1, 3, 4, 5, 0, 0, 0, 0, 0], [3, 4, 5, 6, 7, 8, 0, 0, 0, 0], [2, 5, 7, 0, 0, 0, 0, 0, 0, 0], [0, 4, 5, 6, 7, 0, 0, 0, 0, 0], [0, 2, 3, 4, 5, 6, 7, 0, 0, 0], [0, 6, 7, 0, 0, 0, 0, 0, 0, 0], [0, 1, 2, 0, 0, 0, 0, 0, 0, 0], [2, 4, 5, 6, 7, 8, 0, 0, 0, 0], [2, 4, 0, 0, 0, 0, 0, 0, 0, 0], [2, 5, 6, 0, 0, 0, 0, 0, 0, 0], [4, 7, 0, 0, 0, 0, 0, 0, 0, 0], [3, 7, 0, 0, 0, 0, 0, 0, 0, 0], [6, 7, 8, 0, 0, 0, 0, 0, 0, 0], [3, 4, 8, 0, 0, 0, 0, 0, 0, 0], [4, 6, 8, 9, 0, 0, 0, 0, 0, 0], [6, 7, 8, 9, 0, 0, 0, 0, 0, 0], [6, 0, 0, 0, 0, 0, 0, 0, 0, 0], [4, 5, 6, 9, 0, 0, 0, 0, 0, 0], [4, 6, 9, 0, 0, 0, 0, 0, 0, 0]]\n"
     ]
    }
   ],
   "source": [
    "infos(base_sampler)"
   ]
  },
  {
   "cell_type": "code",
   "execution_count": null,
   "id": "2e26f81e",
   "metadata": {},
   "outputs": [],
   "source": []
  }
 ],
 "metadata": {
  "kernelspec": {
   "display_name": "SageMath 10.2",
   "language": "sage",
   "name": "sagemath"
  },
  "language_info": {
   "codemirror_mode": {
    "name": "ipython",
    "version": 3
   },
   "file_extension": ".py",
   "mimetype": "text/x-python",
   "name": "python",
   "nbconvert_exporter": "python",
   "pygments_lexer": "ipython3",
   "version": "3.11.9"
  }
 },
 "nbformat": 4,
 "nbformat_minor": 5
}

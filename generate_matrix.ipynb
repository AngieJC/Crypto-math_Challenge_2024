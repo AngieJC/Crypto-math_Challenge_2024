{
 "cells": [
  {
   "cell_type": "code",
   "execution_count": 27,
   "id": "ce37b77e",
   "metadata": {},
   "outputs": [],
   "source": [
    "import numpy as np\n",
    "import math\n",
    "import matplotlib.pyplot as plt\n",
    "from scipy.interpolate import interp1d\n",
    "\n",
    "def prob_dist(x, sigma, c = 0):\n",
    "    return (1 / (sigma * math.sqrt(2 * math.pi))) * (math.e**((-(x - c)**2) / (2 * sigma**2)))\n",
    "\n",
    "def generate_matrix(sigma, c = 0, tau = 6, n = 64):\n",
    "    rows = math.ceil(tau * sigma) + 1\n",
    "    cols = n\n",
    "    probs = [prob_dist(0, sigma, c)]\n",
    "    for v in range(1, rows):\n",
    "        probs.append(2 * prob_dist(v, sigma, c))\n",
    "    m = np.zeros((rows, cols))\n",
    "    for row in range(rows):\n",
    "        x = 0.5\n",
    "        for col in range(cols):\n",
    "            if probs[row] >= x:\n",
    "                probs[row] -= x\n",
    "                m[row][col] = 1\n",
    "            x *= 0.5\n",
    "    \n",
    "    return m.astype(int).tolist()\n",
    "\n",
    "def normalize(x):\n",
    "    prob_sum = sum(list(x.values()))\n",
    "    keys = list(x.keys())\n",
    "    for key in keys:\n",
    "        x[key] /= prob_sum\n",
    "    return x\n",
    "\n",
    "def infos(base_sampler):\n",
    "    m = np.zeros((len(base_sampler), 64))\n",
    "    for row in range(len(base_sampler)):\n",
    "        x = 0.5\n",
    "        for col in range(64):\n",
    "            if base_sampler[row] >= x:\n",
    "                base_sampler[row] -= x\n",
    "                m[row][col] = 1\n",
    "            x *= 0.5\n",
    "    m = m.astype(int).tolist()\n",
    "    sample_val = []\n",
    "    for i in range(len(m)):\n",
    "        print(m[i][:8])\n",
    "        val = 0\n",
    "        for j in range(8):\n",
    "            val *= 2\n",
    "            val += m[i][j]\n",
    "        sample_val.extend([i] * val)\n",
    "        m[i] = m[i][8:]\n",
    "    print(sample_val)\n",
    "    col_sums = []\n",
    "    m_index = []\n",
    "    for col in range(len(m[0])):\n",
    "        col_sum = 0\n",
    "        col_index = []\n",
    "        for row in range(len(m)):\n",
    "            col_sum += m[row][col]\n",
    "            if m[row][col] == 1:\n",
    "                col_index.append(row)\n",
    "        while len(col_index) < len(m):\n",
    "            col_index.append(0)\n",
    "        col_sums.append(col_sum)\n",
    "        m_index.append(col_index)\n",
    "    print(col_sums)\n",
    "    print(m_index)"
   ]
  },
  {
   "cell_type": "markdown",
   "id": "7e083bc6",
   "metadata": {},
   "source": [
    "第一题矩阵"
   ]
  },
  {
   "cell_type": "code",
   "execution_count": 2,
   "id": "e5ecd3e3",
   "metadata": {},
   "outputs": [
    {
     "name": "stdout",
     "output_type": "stream",
     "text": [
      "[[1, 0, 0, 0, 1, 0, 0, 0, 0, 0, 1, 0, 1, 1, 0, 0, 0, 0, 0, 1, 1, 0, 1, 1, 1, 0, 1, 1, 1, 1, 1, 1, 0, 0, 0, 1, 0, 1, 1, 0, 0, 1, 1, 1, 0, 1, 1, 1, 0, 0, 0, 0, 1, 0, 0, 0, 0, 0, 0, 0, 0, 0, 0, 0], [0, 1, 1, 0, 1, 1, 1, 1, 1, 1, 1, 1, 0, 1, 1, 0, 1, 1, 0, 1, 0, 1, 1, 0, 1, 0, 0, 0, 0, 1, 1, 1, 1, 1, 0, 1, 1, 1, 0, 0, 0, 1, 1, 1, 0, 0, 0, 0, 1, 0, 1, 1, 0, 1, 0, 0, 0, 0, 0, 0, 0, 0, 0, 0], [0, 0, 0, 0, 0, 1, 1, 1, 1, 1, 0, 0, 0, 1, 1, 1, 1, 0, 0, 1, 0, 1, 1, 1, 1, 1, 0, 0, 1, 0, 0, 0, 1, 0, 1, 1, 1, 1, 0, 1, 1, 0, 1, 1, 0, 0, 1, 1, 1, 0, 0, 1, 0, 1, 1, 1, 1, 1, 0, 0, 0, 0, 0, 0], [0, 0, 0, 0, 0, 0, 0, 0, 0, 0, 0, 1, 0, 1, 1, 1, 0, 1, 1, 0, 0, 0, 1, 1, 0, 1, 1, 1, 0, 1, 1, 0, 1, 0, 0, 0, 0, 0, 1, 1, 1, 0, 1, 0, 1, 0, 1, 1, 1, 0, 0, 1, 1, 0, 1, 1, 1, 0, 0, 1, 1, 1, 1, 0], [0, 0, 0, 0, 0, 0, 0, 0, 0, 0, 0, 0, 0, 0, 0, 0, 0, 0, 0, 0, 1, 0, 1, 1, 1, 1, 1, 0, 0, 0, 1, 0, 0, 1, 0, 1, 0, 0, 1, 1, 1, 1, 1, 1, 0, 1, 0, 0, 1, 1, 0, 0, 0, 0, 0, 1, 1, 0, 1, 1, 1, 0, 0, 0], [0, 0, 0, 0, 0, 0, 0, 0, 0, 0, 0, 0, 0, 0, 0, 0, 0, 0, 0, 0, 0, 0, 0, 0, 0, 0, 0, 0, 0, 0, 0, 1, 0, 0, 0, 0, 0, 1, 0, 1, 0, 1, 0, 0, 0, 1, 0, 1, 0, 0, 1, 1, 0, 1, 1, 0, 0, 0, 0, 1, 0, 1, 0, 1]]\n"
     ]
    }
   ],
   "source": [
    "m = generate_matrix(0.75, 0, 6, 64)\n",
    "print(m)"
   ]
  },
  {
   "cell_type": "markdown",
   "id": "8375f6c5",
   "metadata": {},
   "source": [
    "第二题矩阵"
   ]
  },
  {
   "cell_type": "code",
   "execution_count": 3,
   "id": "729cd7bb",
   "metadata": {},
   "outputs": [],
   "source": [
    "m = generate_matrix(1024, 6, 64)\n",
    "m_ = np.zeros((64, 6145))\n",
    "for col in range(64):\n",
    "    pos = 0\n",
    "    for row in range(6145):\n",
    "        if m[row][col] == 1:\n",
    "            m_[col][pos] = row\n",
    "            pos += 1"
   ]
  },
  {
   "cell_type": "code",
   "execution_count": 11,
   "id": "cf1796cd",
   "metadata": {},
   "outputs": [
    {
     "name": "stdout",
     "output_type": "stream",
     "text": [
      "0, 0, 0, 0, 0, 0, 0, 0, 0, 0, 990, 930, 1034, 1137, 1455, 1486, 1639, 1733, 1835, 1921, 2032, 2114, 2194, 2304, 2405, 2433, 2529, 2594, 2701, 2695, 2768, 2799, 2957, 2923, 3053, 3061, 3069, 3129, 3094, 3112, 3082, 3065, 3123, 3001, 3160, 3131, 3089, 3078, 3130, 3134, 3017, 3031, 3101, 3089, 3116, 3155, 3035, 3064, 3058, 3094, 3143, 3089, 3072, 3126, "
     ]
    }
   ],
   "source": [
    "for row in range(64):\n",
    "    not_zero_mask = (m_[row] > 0)\n",
    "    not_zero_count = np.sum(not_zero_mask)\n",
    "    print(not_zero_count, end=\", \")"
   ]
  },
  {
   "cell_type": "code",
   "execution_count": null,
   "id": "8a4cd704",
   "metadata": {},
   "outputs": [],
   "source": [
    "m = m_.astype(int).tolist()\n",
    "for row in range(64):\n",
    "    m[row] = m[row][:3200]\n",
    "print(m)"
   ]
  },
  {
   "cell_type": "markdown",
   "id": "db96a7b9",
   "metadata": {},
   "source": [
    "# 第三题"
   ]
  },
  {
   "cell_type": "markdown",
   "id": "9665fadf",
   "metadata": {},
   "source": [
    "## 使用的离散半高斯分布"
   ]
  },
  {
   "cell_type": "code",
   "execution_count": 28,
   "id": "f17e05c8",
   "metadata": {},
   "outputs": [
    {
     "name": "stdout",
     "output_type": "stream",
     "text": [
      "{0: 0.420173150660369, 1: 0.336448357435157, 2: 0.172738346377606, 3: 0.0568642523530410, 4: 0.0120024564648358, 5: 0.00162435584520366, 6: 0.000140952389294606, 7: 7.84230879283109e-6, 8: 2.79766471702556e-7, 9: 6.39922857382952e-9}\n"
     ]
    }
   ],
   "source": [
    "sigma = 1.5\n",
    "left = -9\n",
    "right = 11\n",
    "base_sampler = {}\n",
    "for i in range(1 - left):\n",
    "    base_sampler[i] = prob_dist(i, sigma)\n",
    "base_sampler = normalize(base_sampler)\n",
    "print(base_sampler)"
   ]
  },
  {
   "cell_type": "markdown",
   "id": "898f1b3b",
   "metadata": {},
   "source": [
    "## 使用离散半高斯分布构建的双峰高斯分布"
   ]
  },
  {
   "cell_type": "code",
   "execution_count": 29,
   "id": "1a1032c9",
   "metadata": {},
   "outputs": [
    {
     "name": "stdout",
     "output_type": "stream",
     "text": [
      "{-9: 3.19961428691476e-9, -8: 1.39883235851278e-7, -7: 3.92115439641555e-6, -6: 0.0000704761946473028, -5: 0.000812177922601832, -4: 0.00600122823241789, -3: 0.0284321261765205, -2: 0.0863691731888030, -1: 0.168224178717578, 0: 0.210086575330185, 1: 0.210086575330185, 2: 0.168224178717578, 3: 0.0863691731888030, 4: 0.0284321261765205, 5: 0.00600122823241789, 6: 0.000812177922601832, 7: 0.0000704761946473028, 8: 3.92115439641555e-6, 9: 1.39883235851278e-7, 10: 3.19961428691476e-9}\n"
     ]
    }
   ],
   "source": [
    "bg_prob = {}\n",
    "for i in range(left, right):\n",
    "    if(i <= 0):\n",
    "        bg_prob[i] = 0.5 * base_sampler[-i]\n",
    "    else:\n",
    "        bg_prob[i] = 0.5 * base_sampler[i - 1]\n",
    "bg_prob = normalize(bg_prob)\n",
    "print(bg_prob)"
   ]
  },
  {
   "cell_type": "markdown",
   "id": "c8af9334",
   "metadata": {},
   "source": [
    "## 第三题目标分布"
   ]
  },
  {
   "cell_type": "code",
   "execution_count": 30,
   "id": "3c44a693",
   "metadata": {},
   "outputs": [
    {
     "name": "stdout",
     "output_type": "stream",
     "text": [
      "{-9: 5.18563204544342e-10, -8: 2.83125916433800e-8, -7: 9.91146343168362e-7, -6: 0.0000222472415973653, -5: 0.000320180434417809, -4: 0.00295456560799493, -3: 0.0174812593960209, -2: 0.0663180925293130, -1: 0.161313816348075, 0: 0.251588818465083, 1: 0.251588818465083, 2: 0.161313816348075, 3: 0.0663180925293130, 4: 0.0174812593960209, 5: 0.00295456560799493, 6: 0.000320180434417809, 7: 0.0000222472415973653, 8: 9.91146343168362e-7, 9: 2.83125916433800e-8, 10: 5.18563204544342e-10}\n"
     ]
    }
   ],
   "source": [
    "target_prob = {}\n",
    "for i in range(left, right):\n",
    "    target_prob[i] = prob_dist(i, 1.5, c = 0.5)\n",
    "target_prob = normalize(target_prob)\n",
    "print(target_prob)"
   ]
  },
  {
   "cell_type": "markdown",
   "id": "12e3283b",
   "metadata": {},
   "source": [
    "## 目标分布和离散双峰分布的图"
   ]
  },
  {
   "cell_type": "code",
   "execution_count": 31,
   "id": "7ffd58d1",
   "metadata": {},
   "outputs": [
    {
     "data": {
      "image/png": "[encoded data removed]",
      "text/plain": [
       "<Figure size 640x480 with 1 Axes>"
      ]
     },
     "metadata": {},
     "output_type": "display_data"
    }
   ],
   "source": [
    "x_bg = list(bg_prob.keys())\n",
    "y_bg = list(bg_prob.values())\n",
    "x_target = list(target_prob.keys())\n",
    "y_target = list(target_prob.values())\n",
    "f_bg = interp1d(x_bg, y_bg, kind='cubic')\n",
    "f_target = interp1d(x_target, y_target, kind='cubic')\n",
    "x_bg_new = np.linspace(min(x_bg), max(x_bg), 300)\n",
    "y_bg_new = f_bg(x_bg_new)\n",
    "x_target_new = np.linspace(min(x_target), max(x_target), 300)\n",
    "y_target_new = f_target(x_target_new)\n",
    "plt.plot(x_bg, y_bg, color='blue', label='bg')\n",
    "plt.plot(x_target, y_target, color='red', label='target')\n",
    "plt.xticks(range(min(min(x_bg), min(x_target)), max(max(x_bg), max(x_target)) + 1, 1))\n",
    "plt.legend()\n",
    "plt.show()"
   ]
  },
  {
   "cell_type": "markdown",
   "id": "acc63bcc",
   "metadata": {},
   "source": [
    "## 离散半高斯分布各点的概率展开及其他编程信息"
   ]
  },
  {
   "cell_type": "code",
   "execution_count": 32,
   "id": "b77f4698",
   "metadata": {},
   "outputs": [
    {
     "name": "stdout",
     "output_type": "stream",
     "text": [
      "[0, 1, 1, 0, 1, 0, 1, 1]\n",
      "[0, 1, 0, 1, 0, 1, 1, 0]\n",
      "[0, 0, 1, 0, 1, 1, 0, 0]\n",
      "[0, 0, 0, 0, 1, 1, 1, 0]\n",
      "[0, 0, 0, 0, 0, 0, 1, 1]\n",
      "[0, 0, 0, 0, 0, 0, 0, 0]\n",
      "[0, 0, 0, 0, 0, 0, 0, 0]\n",
      "[0, 0, 0, 0, 0, 0, 0, 0]\n",
      "[0, 0, 0, 0, 0, 0, 0, 0]\n",
      "[0, 0, 0, 0, 0, 0, 0, 0]\n",
      "[0, 0, 0, 0, 0, 0, 0, 0, 0, 0, 0, 0, 0, 0, 0, 0, 0, 0, 0, 0, 0, 0, 0, 0, 0, 0, 0, 0, 0, 0, 0, 0, 0, 0, 0, 0, 0, 0, 0, 0, 0, 0, 0, 0, 0, 0, 0, 0, 0, 0, 0, 0, 0, 0, 0, 0, 0, 0, 0, 0, 0, 0, 0, 0, 0, 0, 0, 0, 0, 0, 0, 0, 0, 0, 0, 0, 0, 0, 0, 0, 0, 0, 0, 0, 0, 0, 0, 0, 0, 0, 0, 0, 0, 0, 0, 0, 0, 0, 0, 0, 0, 0, 0, 0, 0, 0, 0, 1, 1, 1, 1, 1, 1, 1, 1, 1, 1, 1, 1, 1, 1, 1, 1, 1, 1, 1, 1, 1, 1, 1, 1, 1, 1, 1, 1, 1, 1, 1, 1, 1, 1, 1, 1, 1, 1, 1, 1, 1, 1, 1, 1, 1, 1, 1, 1, 1, 1, 1, 1, 1, 1, 1, 1, 1, 1, 1, 1, 1, 1, 1, 1, 1, 1, 1, 1, 1, 1, 1, 1, 1, 1, 1, 1, 1, 1, 1, 1, 1, 1, 1, 1, 1, 1, 2, 2, 2, 2, 2, 2, 2, 2, 2, 2, 2, 2, 2, 2, 2, 2, 2, 2, 2, 2, 2, 2, 2, 2, 2, 2, 2, 2, 2, 2, 2, 2, 2, 2, 2, 2, 2, 2, 2, 2, 2, 2, 2, 2, 3, 3, 3, 3, 3, 3, 3, 3, 3, 3, 3, 3, 3, 3, 4, 4, 4]\n",
      "[2, 1, 3, 3, 4, 1, 3, 2, 4, 3, 5, 6, 2, 7, 5, 4, 8, 4, 3, 5, 6, 3, 4, 6, 5, 6, 9, 8, 6, 7, 6, 2, 5, 7, 7, 9, 4, 7, 6, 4, 4, 4, 3, 7, 2, 5, 3, 3, 5, 3, 4, 3, 3, 2, 2, 2]\n",
      "[[0, 3, 0, 0, 0, 0, 0, 0, 0, 0], [5, 0, 0, 0, 0, 0, 0, 0, 0, 0], [1, 2, 5, 0, 0, 0, 0, 0, 0, 0], [0, 2, 4, 0, 0, 0, 0, 0, 0, 0], [2, 3, 5, 6, 0, 0, 0, 0, 0, 0], [3, 0, 0, 0, 0, 0, 0, 0, 0, 0], [3, 4, 5, 0, 0, 0, 0, 0, 0, 0], [1, 6, 0, 0, 0, 0, 0, 0, 0, 0], [2, 3, 4, 7, 0, 0, 0, 0, 0, 0], [0, 1, 5, 0, 0, 0, 0, 0, 0, 0], [0, 1, 3, 5, 6, 0, 0, 0, 0, 0], [0, 1, 2, 4, 5, 6, 0, 0, 0, 0], [1, 6, 0, 0, 0, 0, 0, 0, 0, 0], [0, 2, 3, 4, 5, 6, 8, 0, 0, 0], [0, 1, 3, 4, 7, 0, 0, 0, 0, 0], [0, 3, 4, 7, 0, 0, 0, 0, 0, 0], [0, 1, 2, 3, 4, 6, 7, 8, 0, 0], [1, 3, 4, 6, 0, 0, 0, 0, 0, 0], [0, 5, 8, 0, 0, 0, 0, 0, 0, 0], [0, 3, 7, 8, 9, 0, 0, 0, 0, 0], [2, 3, 4, 5, 6, 9, 0, 0, 0, 0], [0, 2, 4, 0, 0, 0, 0, 0, 0, 0], [1, 5, 7, 9, 0, 0, 0, 0, 0, 0], [1, 4, 5, 6, 8, 9, 0, 0, 0, 0], [0, 1, 4, 6, 8, 0, 0, 0, 0, 0], [1, 2, 4, 6, 7, 9, 0, 0, 0, 0], [0, 1, 2, 3, 4, 5, 6, 7, 9, 0], [0, 1, 2, 4, 5, 7, 8, 9, 0, 0], [0, 1, 3, 4, 5, 9, 0, 0, 0, 0], [0, 2, 4, 6, 7, 8, 9, 0, 0, 0], [0, 1, 3, 5, 6, 8, 0, 0, 0, 0], [5, 7, 0, 0, 0, 0, 0, 0, 0, 0], [2, 3, 4, 6, 7, 0, 0, 0, 0, 0], [0, 2, 3, 4, 5, 6, 8, 0, 0, 0], [2, 3, 4, 5, 6, 7, 8, 0, 0, 0], [0, 1, 2, 3, 4, 5, 6, 7, 8, 0], [0, 2, 6, 8, 0, 0, 0, 0, 0, 0], [1, 3, 4, 6, 7, 8, 9, 0, 0, 0], [0, 1, 4, 5, 6, 9, 0, 0, 0, 0], [1, 2, 3, 8, 0, 0, 0, 0, 0, 0], [2, 5, 7, 9, 0, 0, 0, 0, 0, 0], [0, 2, 4, 7, 0, 0, 0, 0, 0, 0], [0, 1, 9, 0, 0, 0, 0, 0, 0, 0], [1, 2, 3, 4, 7, 8, 9, 0, 0, 0], [2, 8, 0, 0, 0, 0, 0, 0, 0, 0], [1, 2, 3, 5, 9, 0, 0, 0, 0, 0], [6, 8, 9, 0, 0, 0, 0, 0, 0, 0], [3, 7, 8, 0, 0, 0, 0, 0, 0, 0], [4, 5, 6, 7, 9, 0, 0, 0, 0, 0], [5, 7, 8, 0, 0, 0, 0, 0, 0, 0], [5, 6, 7, 9, 0, 0, 0, 0, 0, 0], [5, 8, 9, 0, 0, 0, 0, 0, 0, 0], [6, 8, 9, 0, 0, 0, 0, 0, 0, 0], [7, 8, 0, 0, 0, 0, 0, 0, 0, 0], [6, 9, 0, 0, 0, 0, 0, 0, 0, 0], [7, 8, 0, 0, 0, 0, 0, 0, 0, 0]]\n"
     ]
    }
   ],
   "source": [
    "infos(base_sampler)"
   ]
  },
  {
   "cell_type": "markdown",
   "id": "ef0ca753",
   "metadata": {},
   "source": [
    "# 第四题"
   ]
  },
  {
   "cell_type": "markdown",
   "id": "7e12398a",
   "metadata": {},
   "source": [
    "## 使用的离散半高斯分布"
   ]
  },
  {
   "cell_type": "code",
   "execution_count": 71,
   "id": "9b9a2f37",
   "metadata": {},
   "outputs": [
    {
     "name": "stdout",
     "output_type": "stream",
     "text": [
      "{0: 0.399153377109599, 1: 0.328334611966009, 2: 0.182745732504581, 3: 0.0688226734639126, 4: 0.0175375754356234, 5: 0.00302385723576937, 6: 0.000352782255191431, 7: 0.0000278487623572912, 8: 1.48750619895140e-6, 9: 5.37607584814554e-8}\n"
     ]
    }
   ],
   "source": [
    "sigma_max = 1.6\n",
    "sigma_min = 0.8\n",
    "left = -9\n",
    "right = 11\n",
    "base_sampler = {}\n",
    "for i in range(1 - left):\n",
    "    base_sampler[i] = prob_dist(i, sigma_max)\n",
    "base_sampler = normalize(base_sampler)\n",
    "print(base_sampler)"
   ]
  },
  {
   "cell_type": "markdown",
   "id": "66b98956",
   "metadata": {},
   "source": [
    "## 使用离散半高斯分布构建的双峰高斯分布"
   ]
  },
  {
   "cell_type": "code",
   "execution_count": 72,
   "id": "4140fac7",
   "metadata": {},
   "outputs": [
    {
     "name": "stdout",
     "output_type": "stream",
     "text": [
      "{-9: 2.68803792407277e-8, -8: 7.43753099475702e-7, -7: 0.0000139243811786456, -6: 0.000176391127595715, -5: 0.00151192861788469, -4: 0.00876878771781169, -3: 0.0344113367319563, -2: 0.0913728662522903, -1: 0.164167305983004, 0: 0.199576688554800, 1: 0.199576688554800, 2: 0.164167305983004, 3: 0.0913728662522903, 4: 0.0344113367319563, 5: 0.00876878771781169, 6: 0.00151192861788469, 7: 0.000176391127595715, 8: 0.0000139243811786456, 9: 7.43753099475702e-7, 10: 2.68803792407277e-8}\n"
     ]
    }
   ],
   "source": [
    "bg_prob = {}\n",
    "for i in range(left, right):\n",
    "    if(i <= 0):\n",
    "        bg_prob[i] = 0.5 * base_sampler[-i]\n",
    "    else:\n",
    "        bg_prob[i] = 0.5 * base_sampler[i - 1]\n",
    "bg_prob = normalize(bg_prob)\n",
    "print(bg_prob)"
   ]
  },
  {
   "cell_type": "markdown",
   "id": "862d314c",
   "metadata": {},
   "source": [
    "## 第四题目标分布及分布图"
   ]
  },
  {
   "cell_type": "code",
   "execution_count": 73,
   "id": "4903cbab",
   "metadata": {},
   "outputs": [
    {
     "name": "stdout",
     "output_type": "stream",
     "text": [
      "{-9: 8.05069107663194e-10, -8: 3.30612616235886e-8, -7: 9.18220836585885e-7, -6: 0.0000172471097232560, -5: 0.000219092227103835, -4: 0.00188225766773774, -3: 0.0109363560553454, -2: 0.0429741869148501, -1: 0.114204747239671, 0: 0.205258951743629, 1: 0.249494810953635, 2: 0.205098455331843, 3: 0.114026218742981, 4: 0.0428734583803663, 5: 0.0109021906605428, 6: 0.00187491027708165, 7: 0.000218066356616636, 8: 0.0000171529296622896, 9: 9.12492717487617e-7, 10: 3.28293261539357e-8}\n",
      "{-9: 0.0119863651452104, -8: 0.0177901810092028, -7: 0.0263913115365540, -6: 0.0391317547468890, -5: 0.0579943140185425, -4: 0.0859071382019988, -3: 0.127192302998020, -2: 0.188226234094061, -1: 0.278411531145549, 0: 0.411606313309582, 1: 0.500312597595072, 2: 0.499994758227443, 3: 0.499432968551646, 4: 0.498628051362976, 5: 0.497581184464214, 6: 0.496293897793704, 7: 0.494768069699440, 8: 0.493005922371856, 9: 0.491010016450848, 10: 0.488783244825368}\n"
     ]
    },
    {
     "data": {
      "image/png": "[encoded data removed]",
      "text/plain": [
       "<Figure size 640x480 with 1 Axes>"
      ]
     },
     "metadata": {},
     "output_type": "display_data"
    }
   ],
   "source": [
    "target_sigma = 1.599\n",
    "target_center = 0.999\n",
    "target_prob = {}\n",
    "for i in range(left, right):\n",
    "    target_prob[i] = prob_dist(i, target_sigma, c = target_center)\n",
    "target_prob = normalize(target_prob)\n",
    "print(target_prob)\n",
    "accept_rate = {}\n",
    "for key in list(target_prob.keys()):\n",
    "    p = -(key - target_center)**2 / (2 * target_sigma**2)\n",
    "    if key <= 0:\n",
    "        p += key**2 / (2 * sigma_max**2)\n",
    "    else:\n",
    "        p += (key - 1)**2 / (2 * sigma_max**2)\n",
    "    p = (sigma_min / target_sigma) * e**p\n",
    "    accept_rate[key] = p\n",
    "print(accept_rate)\n",
    "\n",
    "x_bg = list(bg_prob.keys())\n",
    "y_bg = list(bg_prob.values())\n",
    "x_target = list(target_prob.keys())\n",
    "y_target = list(target_prob.values())\n",
    "f_bg = interp1d(x_bg, y_bg, kind='cubic')\n",
    "f_target = interp1d(x_target, y_target, kind='cubic')\n",
    "x_bg_new = np.linspace(min(x_bg), max(x_bg), 300)\n",
    "y_bg_new = f_bg(x_bg_new)\n",
    "x_target_new = np.linspace(min(x_target), max(x_target), 300)\n",
    "y_target_new = f_target(x_target_new)\n",
    "plt.plot(x_bg, y_bg, color='blue', label='bg')\n",
    "plt.plot(x_target, y_target, color='red', label='target')\n",
    "plt.xticks(range(min(min(x_bg), min(x_target)), max(max(x_bg), max(x_target)) + 1, 1))\n",
    "plt.legend()\n",
    "plt.show()"
   ]
  },
  {
   "cell_type": "markdown",
   "id": "fd9bea3b",
   "metadata": {},
   "source": [
    "## 离散半高斯分布各点的概率展开及其他编程信息"
   ]
  },
  {
   "cell_type": "code",
   "execution_count": 70,
   "id": "d19e55dc",
   "metadata": {},
   "outputs": [
    {
     "name": "stdout",
     "output_type": "stream",
     "text": [
      "[0, 1, 1, 0, 0, 1, 1, 0]\n",
      "[0, 1, 0, 1, 0, 1, 0, 0]\n",
      "[0, 0, 1, 0, 1, 1, 1, 0]\n",
      "[0, 0, 0, 1, 0, 0, 0, 1]\n",
      "[0, 0, 0, 0, 0, 1, 0, 0]\n",
      "[0, 0, 0, 0, 0, 0, 0, 0]\n",
      "[0, 0, 0, 0, 0, 0, 0, 0]\n",
      "[0, 0, 0, 0, 0, 0, 0, 0]\n",
      "[0, 0, 0, 0, 0, 0, 0, 0]\n",
      "[0, 0, 0, 0, 0, 0, 0, 0]\n",
      "[0, 0, 0, 0, 0, 0, 0, 0, 0, 0, 0, 0, 0, 0, 0, 0, 0, 0, 0, 0, 0, 0, 0, 0, 0, 0, 0, 0, 0, 0, 0, 0, 0, 0, 0, 0, 0, 0, 0, 0, 0, 0, 0, 0, 0, 0, 0, 0, 0, 0, 0, 0, 0, 0, 0, 0, 0, 0, 0, 0, 0, 0, 0, 0, 0, 0, 0, 0, 0, 0, 0, 0, 0, 0, 0, 0, 0, 0, 0, 0, 0, 0, 0, 0, 0, 0, 0, 0, 0, 0, 0, 0, 0, 0, 0, 0, 0, 0, 0, 0, 0, 0, 1, 1, 1, 1, 1, 1, 1, 1, 1, 1, 1, 1, 1, 1, 1, 1, 1, 1, 1, 1, 1, 1, 1, 1, 1, 1, 1, 1, 1, 1, 1, 1, 1, 1, 1, 1, 1, 1, 1, 1, 1, 1, 1, 1, 1, 1, 1, 1, 1, 1, 1, 1, 1, 1, 1, 1, 1, 1, 1, 1, 1, 1, 1, 1, 1, 1, 1, 1, 1, 1, 1, 1, 1, 1, 1, 1, 1, 1, 1, 1, 1, 1, 1, 1, 2, 2, 2, 2, 2, 2, 2, 2, 2, 2, 2, 2, 2, 2, 2, 2, 2, 2, 2, 2, 2, 2, 2, 2, 2, 2, 2, 2, 2, 2, 2, 2, 2, 2, 2, 2, 2, 2, 2, 2, 2, 2, 2, 2, 2, 2, 3, 3, 3, 3, 3, 3, 3, 3, 3, 3, 3, 3, 3, 3, 3, 3, 3, 4, 4, 4, 4]\n",
      "[3, 3, 2, 3, 5, 6, 4, 4, 3, 5, 4, 6, 7, 5, 5, 3, 8, 5, 9, 6, 3, 6, 3, 3, 9, 6, 4, 3, 4, 6, 8, 4, 3, 4, 6, 8, 2, 6, 7, 4, 7, 4, 7, 7, 3, 5, 1, 2, 3, 5, 3, 3, 2, 0, 3, 3]\n",
      "[[2, 3, 5, 0, 0, 0, 0, 0, 0, 0], [2, 4, 5, 0, 0, 0, 0, 0, 0, 0], [0, 4, 0, 0, 0, 0, 0, 0, 0, 0], [3, 4, 6, 0, 0, 0, 0, 0, 0, 0], [0, 1, 2, 3, 4, 0, 0, 0, 0, 0], [0, 1, 3, 4, 5, 6, 0, 0, 0, 0], [0, 3, 5, 6, 0, 0, 0, 0, 0, 0], [1, 4, 6, 7, 0, 0, 0, 0, 0, 0], [0, 1, 7, 0, 0, 0, 0, 0, 0, 0], [0, 2, 3, 4, 7, 0, 0, 0, 0, 0], [0, 1, 2, 5, 0, 0, 0, 0, 0, 0], [1, 3, 4, 6, 7, 8, 0, 0, 0, 0], [0, 1, 2, 3, 5, 6, 8, 0, 0, 0], [1, 2, 3, 4, 6, 0, 0, 0, 0, 0], [0, 4, 5, 6, 7, 0, 0, 0, 0, 0], [4, 5, 7, 0, 0, 0, 0, 0, 0, 0], [1, 2, 3, 4, 5, 6, 8, 9, 0, 0], [0, 3, 5, 8, 9, 0, 0, 0, 0, 0], [0, 1, 2, 4, 5, 6, 7, 8, 9, 0], [1, 3, 4, 6, 7, 8, 0, 0, 0, 0], [0, 3, 7, 0, 0, 0, 0, 0, 0, 0], [0, 1, 5, 6, 8, 9, 0, 0, 0, 0], [3, 5, 9, 0, 0, 0, 0, 0, 0, 0], [3, 5, 7, 0, 0, 0, 0, 0, 0, 0], [0, 1, 2, 3, 4, 5, 7, 8, 9, 0], [0, 3, 4, 5, 8, 9, 0, 0, 0, 0], [4, 5, 6, 9, 0, 0, 0, 0, 0, 0], [2, 4, 6, 0, 0, 0, 0, 0, 0, 0], [1, 5, 6, 8, 0, 0, 0, 0, 0, 0], [0, 2, 5, 6, 7, 9, 0, 0, 0, 0], [0, 2, 4, 5, 6, 7, 8, 9, 0, 0], [1, 2, 5, 6, 0, 0, 0, 0, 0, 0], [1, 6, 9, 0, 0, 0, 0, 0, 0, 0], [1, 4, 5, 8, 0, 0, 0, 0, 0, 0], [1, 2, 3, 4, 5, 6, 0, 0, 0, 0], [0, 1, 2, 3, 4, 5, 8, 9, 0, 0], [2, 8, 0, 0, 0, 0, 0, 0, 0, 0], [4, 5, 6, 7, 8, 9, 0, 0, 0, 0], [1, 2, 3, 4, 5, 6, 7, 0, 0, 0], [3, 4, 6, 7, 0, 0, 0, 0, 0, 0], [1, 2, 3, 5, 6, 7, 8, 0, 0, 0], [3, 4, 6, 7, 0, 0, 0, 0, 0, 0], [1, 3, 4, 6, 7, 8, 9, 0, 0, 0], [0, 2, 4, 6, 7, 8, 9, 0, 0, 0], [2, 5, 9, 0, 0, 0, 0, 0, 0, 0], [0, 2, 4, 8, 9, 0, 0, 0, 0, 0], [4, 0, 0, 0, 0, 0, 0, 0, 0, 0], [3, 9, 0, 0, 0, 0, 0, 0, 0, 0], [6, 8, 9, 0, 0, 0, 0, 0, 0, 0], [5, 6, 7, 8, 9, 0, 0, 0, 0, 0], [5, 7, 8, 0, 0, 0, 0, 0, 0, 0], [6, 8, 9, 0, 0, 0, 0, 0, 0, 0], [5, 7, 0, 0, 0, 0, 0, 0, 0, 0], [0, 0, 0, 0, 0, 0, 0, 0, 0, 0], [6, 7, 9, 0, 0, 0, 0, 0, 0, 0], [6, 8, 9, 0, 0, 0, 0, 0, 0, 0]]\n"
     ]
    }
   ],
   "source": [
    "infos(base_sampler)"
   ]
  },
  {
   "cell_type": "code",
   "execution_count": null,
   "id": "2e26f81e",
   "metadata": {},
   "outputs": [],
   "source": []
  }
 ],
 "metadata": {
  "kernelspec": {
   "display_name": "SageMath 10.2",
   "language": "sage",
   "name": "sagemath"
  },
  "language_info": {
   "codemirror_mode": {
    "name": "ipython",
    "version": 3
   },
   "file_extension": ".py",
   "mimetype": "text/x-python",
   "name": "python",
   "nbconvert_exporter": "python",
   "pygments_lexer": "ipython3",
   "version": "3.11.9"
  }
 },
 "nbformat": 4,
 "nbformat_minor": 5
}
